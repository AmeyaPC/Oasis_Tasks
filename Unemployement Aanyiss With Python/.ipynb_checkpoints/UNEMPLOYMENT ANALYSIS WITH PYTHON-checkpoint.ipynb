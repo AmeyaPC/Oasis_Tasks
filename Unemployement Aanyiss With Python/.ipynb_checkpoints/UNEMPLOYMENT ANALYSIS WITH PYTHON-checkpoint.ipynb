{
 "cells": [
  {
   "cell_type": "code",
   "execution_count": null,
   "id": "796dc1d0",
   "metadata": {},
   "outputs": [],
   "source": [
    "import pandas as pd\n",
    "import numpy as np\n",
    "import matplotlib.pyplot as plt\n",
    "import seaborn as sns\n",
    "import plotly.express as px\n",
    "\n",
    "data = pd.read_csv(\"unemployment_data.csv\")\n",
    "print(data.head())\n"
   ]
  },
  {
   "cell_type": "code",
   "execution_count": null,
   "id": "52b9ffd5",
   "metadata": {},
   "outputs": [],
   "source": [
    "print(data.isnull().sum())"
   ]
  },
  {
   "cell_type": "code",
   "execution_count": null,
   "id": "ee653410",
   "metadata": {},
   "outputs": [],
   "source": [
    "plt.style.use('seaborn-whitegrid')\n",
    "plt.figure(figsize=(12, 10))\n",
    "sns.heatmap(data.corr())\n",
    "plt.show()"
   ]
  },
  {
   "cell_type": "code",
   "execution_count": null,
   "id": "259c1a33",
   "metadata": {},
   "outputs": [],
   "source": [
    "data.columns= [\"States\",\"Date\",\"Frequency\",\n",
    "               \"Estimated Unemployment Rate\",\"Estimated Employed\",\n",
    "               \"Estimated Labour Participation Rate\",\"Region\",\n",
    "               \"longitude\",\"latitude\"]\n",
    "plt.title(\"Indian Unemployment\")\n",
    "sns.histplot(x=\"Estimated Employed\", hue=\"Region\", data=data)\n",
    "plt.show()\n"
   ]
  },
  {
   "cell_type": "code",
   "execution_count": null,
   "id": "1ea2006f",
   "metadata": {},
   "outputs": [],
   "source": [
    "plt.figure(figsize=(12, 10))\n",
    "plt.title(\"Indian Unemployment\")\n",
    "sns.histplot(x=\"Estimated Unemployment Rate\", hue=\"Region\", data=data)\n",
    "plt.show()\n"
   ]
  },
  {
   "cell_type": "code",
   "execution_count": null,
   "id": "1cf3663f",
   "metadata": {},
   "outputs": [],
   "source": [
    "unemploment = data[[\"States\", \"Region\", \"Estimated Unemployment Rate\"]]\n",
    "figure = px.sunburst(unemploment, path=[\"Region\", \"States\"], \n",
    "                     values=\"Estimated Unemployment Rate\", \n",
    "                     width=700, height=700, color_continuous_scale=\"RdY1Gn\", \n",
    "                     title=\"Unemployment Rate in India\")\n",
    "figure.show()"
   ]
  },
  {
   "cell_type": "code",
   "execution_count": null,
   "id": "15a3f31b",
   "metadata": {},
   "outputs": [],
   "source": []
  }
 ],
 "metadata": {
  "kernelspec": {
   "display_name": "Python 3 (ipykernel)",
   "language": "python",
   "name": "python3"
  },
  "language_info": {
   "codemirror_mode": {
    "name": "ipython",
    "version": 3
   },
   "file_extension": ".py",
   "mimetype": "text/x-python",
   "name": "python",
   "nbconvert_exporter": "python",
   "pygments_lexer": "ipython3",
   "version": "3.11.3"
  }
 },
 "nbformat": 4,
 "nbformat_minor": 5
}
